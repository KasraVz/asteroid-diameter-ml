{
 "cells": [
  {
   "cell_type": "markdown",
   "id": "d18e60a0",
   "metadata": {},
   "source": [
    "# Step 1 – Exploratory Data Analysis\n"
   ]
  },
  {
   "cell_type": "markdown",
   "id": "a05fcdb9",
   "metadata": {},
   "source": [
    "## 1 A Make sure the file is in the right place\n",
    "1. In the VS Code Explorer panel, right-click the project root → New Folder → name it data.\n",
    "2. Drag-and-drop data.csv from Finder/Explorer into that data/ folder (or copy it there in a terminal).\n"
   ]
  },
  {
   "cell_type": "markdown",
   "id": "b3857c9c",
   "metadata": {},
   "source": [
    "## 1 B Create & open the first notebook\n",
    "Explorer sidebar → right-click notebooks → New File → 01_eda.ipynb.\n",
    "\n",
    "Top-right kernel picker → choose Python (asteroid-ml).\n",
    "\n",
    "Add a Markdown cell at the very top:\n",
    "\" # Step 1 – Exploratory Data Analysis \"\n"
   ]
  },
  {
   "cell_type": "markdown",
   "id": "026def7d",
   "metadata": {},
   "source": [
    "## 1 C Import the essential libraries"
   ]
  },
  {
   "cell_type": "code",
   "execution_count": 2,
   "id": "a43bddf6",
   "metadata": {},
   "outputs": [],
   "source": [
    "import pandas as pd\n",
    "import numpy as np\n",
    "import matplotlib.pyplot as plt\n",
    "import seaborn as sns\n",
    "\n",
    "# Plotting looks nicer with this one tweak:\n",
    "plt.rcParams[\"figure.figsize\"] = (6, 3)\n",
    "\n",
    "RANDOM_STATE = 42\n",
    "np.random.seed(RANDOM_STATE)\n",
    "\n"
   ]
  },
  {
   "cell_type": "markdown",
   "id": "80b2b258",
   "metadata": {},
   "source": [
    "## 1 D Load the raw CSV"
   ]
  },
  {
   "cell_type": "code",
   "execution_count": 3,
   "id": "2631732b",
   "metadata": {},
   "outputs": [
    {
     "data": {
      "text/plain": [
       "(8397, 31)"
      ]
     },
     "execution_count": 3,
     "metadata": {},
     "output_type": "execute_result"
    }
   ],
   "source": [
    "df_raw = pd.read_csv(\"../data/data.csv\")\n",
    "\n",
    "# Many Kaggle-style exports carry an unnamed first column (row index) — drop it if present\n",
    "if \"Unnamed: 0\" in df_raw.columns:\n",
    "    df_raw = df_raw.drop(columns=[\"Unnamed: 0\"])\n",
    "\n",
    "df_raw.shape\n"
   ]
  },
  {
   "cell_type": "markdown",
   "id": "c4a8ecf5",
   "metadata": {},
   "source": [
    "## 1 E Remove rows where the target (diameter) is missing"
   ]
  },
  {
   "cell_type": "code",
   "execution_count": 5,
   "id": "8fa282b1",
   "metadata": {},
   "outputs": [
    {
     "data": {
      "text/plain": [
       "(1436, 31)"
      ]
     },
     "execution_count": 5,
     "metadata": {},
     "output_type": "execute_result"
    }
   ],
   "source": [
    "df = df_raw[df_raw[\"diameter\"].notna()].reset_index(drop=True)\n",
    "df.shape\n"
   ]
  },
  {
   "cell_type": "markdown",
   "id": "3fb42616",
   "metadata": {},
   "source": [
    "ML models need a target for every training example, so rows missing the target must be dropped or predicted separately."
   ]
  },
  {
   "cell_type": "markdown",
   "id": "509d8337",
   "metadata": {},
   "source": [
    "## 1 F Inspect the dataframe structure"
   ]
  },
  {
   "cell_type": "code",
   "execution_count": 9,
   "id": "3729182e",
   "metadata": {},
   "outputs": [
    {
     "name": "stdout",
     "output_type": "stream",
     "text": [
      "<class 'pandas.core.frame.DataFrame'>\n",
      "RangeIndex: 1436 entries, 0 to 1435\n",
      "Data columns (total 31 columns):\n",
      " #   Column          Non-Null Count  Dtype  \n",
      "---  ------          --------------  -----  \n",
      " 0   name            146 non-null    object \n",
      " 1   a               1436 non-null   float64\n",
      " 2   e               1436 non-null   float64\n",
      " 3   i               1436 non-null   float64\n",
      " 4   om              1436 non-null   float64\n",
      " 5   w               1436 non-null   float64\n",
      " 6   q               1436 non-null   float64\n",
      " 7   ad              1436 non-null   float64\n",
      " 8   per_y           1436 non-null   float64\n",
      " 9   data_arc        1435 non-null   float64\n",
      " 10  condition_code  1436 non-null   object \n",
      " 11  n_obs_used      1436 non-null   int64  \n",
      " 12  H               1429 non-null   float64\n",
      " 13  neo             1436 non-null   object \n",
      " 14  pha             1436 non-null   object \n",
      " 15  diameter        1436 non-null   float64\n",
      " 16  extent          0 non-null      float64\n",
      " 17  albedo          1420 non-null   float64\n",
      " 18  rot_per         120 non-null    float64\n",
      " 19  GM              0 non-null      float64\n",
      " 20  BV              6 non-null      float64\n",
      " 21  UB              5 non-null      float64\n",
      " 22  IR              0 non-null      float64\n",
      " 23  spec_B          7 non-null      object \n",
      " 24  spec_T          6 non-null      object \n",
      " 25  G               0 non-null      float64\n",
      " 26  moid            1436 non-null   float64\n",
      " 27  class           1436 non-null   object \n",
      " 28  n               1436 non-null   float64\n",
      " 29  per             1436 non-null   float64\n",
      " 30  ma              1436 non-null   float64\n",
      "dtypes: float64(23), int64(1), object(7)\n",
      "memory usage: 347.9+ KB\n"
     ]
    }
   ],
   "source": [
    "df.info()"
   ]
  },
  {
   "cell_type": "markdown",
   "id": "1f26eec3",
   "metadata": {},
   "source": [
    "Diameter is float64 → that’s our regression target.\n",
    "\n",
    "Most physical-orbital columns (a, e, i, etc.) are numeric.\n",
    "\n",
    "A handful (class, spec_B, spec_T, neo, pha) are object (categorical).\n",
    "\n",
    "Several columns (e.g. IR, G, GM, extent) show 1436 non-null = 0 → we’ll drop them later."
   ]
  },
  {
   "cell_type": "markdown",
   "id": "2d8e4d04",
   "metadata": {},
   "source": [
    "## 1 G Quantify missing values"
   ]
  },
  {
   "cell_type": "code",
   "execution_count": 10,
   "id": "b6c1d1f0",
   "metadata": {},
   "outputs": [
    {
     "data": {
      "text/html": [
       "<div>\n",
       "<style scoped>\n",
       "    .dataframe tbody tr th:only-of-type {\n",
       "        vertical-align: middle;\n",
       "    }\n",
       "\n",
       "    .dataframe tbody tr th {\n",
       "        vertical-align: top;\n",
       "    }\n",
       "\n",
       "    .dataframe thead th {\n",
       "        text-align: right;\n",
       "    }\n",
       "</style>\n",
       "<table border=\"1\" class=\"dataframe\">\n",
       "  <thead>\n",
       "    <tr style=\"text-align: right;\">\n",
       "      <th></th>\n",
       "      <th>n_missing</th>\n",
       "      <th>ratio</th>\n",
       "    </tr>\n",
       "  </thead>\n",
       "  <tbody>\n",
       "    <tr>\n",
       "      <th>extent</th>\n",
       "      <td>1436</td>\n",
       "      <td>1.000</td>\n",
       "    </tr>\n",
       "    <tr>\n",
       "      <th>GM</th>\n",
       "      <td>1436</td>\n",
       "      <td>1.000</td>\n",
       "    </tr>\n",
       "    <tr>\n",
       "      <th>IR</th>\n",
       "      <td>1436</td>\n",
       "      <td>1.000</td>\n",
       "    </tr>\n",
       "    <tr>\n",
       "      <th>G</th>\n",
       "      <td>1436</td>\n",
       "      <td>1.000</td>\n",
       "    </tr>\n",
       "    <tr>\n",
       "      <th>UB</th>\n",
       "      <td>1431</td>\n",
       "      <td>0.997</td>\n",
       "    </tr>\n",
       "    <tr>\n",
       "      <th>spec_T</th>\n",
       "      <td>1430</td>\n",
       "      <td>0.996</td>\n",
       "    </tr>\n",
       "    <tr>\n",
       "      <th>BV</th>\n",
       "      <td>1430</td>\n",
       "      <td>0.996</td>\n",
       "    </tr>\n",
       "    <tr>\n",
       "      <th>spec_B</th>\n",
       "      <td>1429</td>\n",
       "      <td>0.995</td>\n",
       "    </tr>\n",
       "    <tr>\n",
       "      <th>rot_per</th>\n",
       "      <td>1316</td>\n",
       "      <td>0.916</td>\n",
       "    </tr>\n",
       "    <tr>\n",
       "      <th>name</th>\n",
       "      <td>1290</td>\n",
       "      <td>0.898</td>\n",
       "    </tr>\n",
       "  </tbody>\n",
       "</table>\n",
       "</div>"
      ],
      "text/plain": [
       "         n_missing  ratio\n",
       "extent        1436  1.000\n",
       "GM            1436  1.000\n",
       "IR            1436  1.000\n",
       "G             1436  1.000\n",
       "UB            1431  0.997\n",
       "spec_T        1430  0.996\n",
       "BV            1430  0.996\n",
       "spec_B        1429  0.995\n",
       "rot_per       1316  0.916\n",
       "name          1290  0.898"
      ]
     },
     "execution_count": 10,
     "metadata": {},
     "output_type": "execute_result"
    }
   ],
   "source": [
    "missing = (\n",
    "    df.isna()\n",
    "      .sum()\n",
    "      .sort_values(ascending=False)\n",
    "      .to_frame(\"n_missing\")\n",
    ")\n",
    "missing[\"ratio\"] = (missing[\"n_missing\"] / len(df)).round(3)\n",
    "missing.head(10)\n"
   ]
  },
  {
   "cell_type": "markdown",
   "id": "2fa0bfb8",
   "metadata": {},
   "source": [
    "Columns with 100 % missing (IR, G, GM, extent) carry no information → mark for removal.\n",
    "\n",
    "Columns with >99 % missing (UB, spec_B, spec_T) are also poor predictors.\n",
    "\n",
    "Most useful numeric features are >95 % complete."
   ]
  },
  {
   "cell_type": "markdown",
   "id": "4b80e281",
   "metadata": {},
   "source": [
    "## 1 H Look at the target distribution"
   ]
  },
  {
   "cell_type": "code",
   "execution_count": 11,
   "id": "2c3c5187",
   "metadata": {},
   "outputs": [
    {
     "data": {
      "image/png": "[encoded data removed]",
      "text/plain": [
       "<Figure size 600x300 with 1 Axes>"
      ]
     },
     "metadata": {},
     "output_type": "display_data"
    }
   ],
   "source": [
    "sns.histplot(df[\"diameter\"], bins=50, log_scale=True)\n",
    "plt.xlabel(\"Diameter (km)\")\n",
    "plt.title(\"Asteroid diameters (log-scale)\")\n",
    "plt.show()\n"
   ]
  },
  {
   "cell_type": "markdown",
   "id": "6ec1855b",
   "metadata": {},
   "source": [
    "Distribution is highly right-skewed — many small rocks, few giants.\n",
    "\n",
    "Taking log(diameter) later could stabilise variance for linear models.\n",
    "\n",
    "Tree-based models cope fine without the transform, but the diagnostic is still useful."
   ]
  },
  {
   "cell_type": "markdown",
   "id": "c9fba47a",
   "metadata": {},
   "source": [
    "## 1 I Save a clean snapshot (nice practice for team projects)"
   ]
  },
  {
   "cell_type": "code",
   "execution_count": 12,
   "id": "7fc81f34",
   "metadata": {},
   "outputs": [],
   "source": [
    "df.to_csv(\"../data/asteroids_clean.csv\", index=False)"
   ]
  },
  {
   "cell_type": "code",
   "execution_count": 14,
   "id": "52db2c80",
   "metadata": {},
   "outputs": [
    {
     "name": "stdout",
     "output_type": "stream",
     "text": [
      "fatal: not a git repository (or any of the parent directories): .git\n",
      "fatal: not a git repository (or any of the parent directories): .git\n",
      "fatal: not a git repository (or any of the parent directories): .git\n"
     ]
    }
   ],
   "source": [
    "!git add data/asteroids_clean.csv notebooks/01_eda.ipynb\n",
    "!git commit -m \"Step 1: initial EDA (shape, missing, target histogram)\"\n",
    "!git push origin main   # if you already have a remote repo"
   ]
  },
  {
   "cell_type": "code",
   "execution_count": null,
   "id": "2201bc8d",
   "metadata": {},
   "outputs": [],
   "source": []
  }
 ],
 "metadata": {
  "kernelspec": {
   "display_name": "asteroid-ml",
   "language": "python",
   "name": "python3"
  },
  "language_info": {
   "codemirror_mode": {
    "name": "ipython",
    "version": 3
   },
   "file_extension": ".py",
   "mimetype": "text/x-python",
   "name": "python",
   "nbconvert_exporter": "python",
   "pygments_lexer": "ipython3",
   "version": "3.11.13"
  }
 },
 "nbformat": 4,
 "nbformat_minor": 5
}
